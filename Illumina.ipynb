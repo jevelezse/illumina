{
 "cells": [
  {
   "cell_type": "code",
   "execution_count": 9,
   "metadata": {
    "collapsed": false
   },
   "outputs": [],
   "source": [
    "import vcf\n",
    "vcf_reader = vcf.Reader(open('output.vcf', 'r'))\n"
   ]
  },
  {
   "cell_type": "code",
   "execution_count": 10,
   "metadata": {
    "collapsed": false,
    "scrolled": false
   },
   "outputs": [],
   "source": [
    "v = []\n",
    "for record in vcf_reader:\n",
    "    v.append(record.var_type)\n",
    "    "
   ]
  },
  {
   "cell_type": "code",
   "execution_count": 11,
   "metadata": {
    "collapsed": false
   },
   "outputs": [
    {
     "name": "stdout",
     "output_type": "stream",
     "text": [
      "30893\n"
     ]
    }
   ],
   "source": [
    "SNP = v.count('snp')\n",
    "print SNP"
   ]
  },
  {
   "cell_type": "code",
   "execution_count": 12,
   "metadata": {
    "collapsed": false
   },
   "outputs": [],
   "source": [
    "INDEL = v.count('indel')"
   ]
  },
  {
   "cell_type": "code",
   "execution_count": 13,
   "metadata": {
    "collapsed": false
   },
   "outputs": [
    {
     "name": "stdout",
     "output_type": "stream",
     "text": [
      "0\n"
     ]
    }
   ],
   "source": [
    "DESCONOCIDO = v.count('unknow')\n",
    "print DESCONOCIDO"
   ]
  },
  {
   "cell_type": "code",
   "execution_count": 14,
   "metadata": {
    "collapsed": false
   },
   "outputs": [
    {
     "data": {
      "text/plain": [
       "34217"
      ]
     },
     "execution_count": 14,
     "metadata": {},
     "output_type": "execute_result"
    }
   ],
   "source": [
    "len(v)"
   ]
  },
  {
   "cell_type": "code",
   "execution_count": 15,
   "metadata": {
    "collapsed": false
   },
   "outputs": [],
   "source": [
    "vcf_reader = vcf.Reader(open('puro.vcf', 'r'))\n",
    "p = []\n",
    "for record in vcf_reader:\n",
    "    p.append(record.var_type)"
   ]
  },
  {
   "cell_type": "code",
   "execution_count": 16,
   "metadata": {
    "collapsed": false
   },
   "outputs": [
    {
     "data": {
      "text/plain": [
       "32850"
      ]
     },
     "execution_count": 16,
     "metadata": {},
     "output_type": "execute_result"
    }
   ],
   "source": [
    "len(p)"
   ]
  },
  {
   "cell_type": "code",
   "execution_count": 17,
   "metadata": {
    "collapsed": false
   },
   "outputs": [
    {
     "name": "stdout",
     "output_type": "stream",
     "text": [
      "29749\n",
      "3101\n",
      "0\n"
     ]
    }
   ],
   "source": [
    "print(p.count('snp'))\n",
    "print(p.count('indel'))\n",
    "print(p.count('unknow'))"
   ]
  },
  {
   "cell_type": "code",
   "execution_count": 18,
   "metadata": {
    "collapsed": false
   },
   "outputs": [
    {
     "name": "stdout",
     "output_type": "stream",
     "text": [
      "30893\n",
      "3324\n",
      "0\n",
      "34217\n"
     ]
    }
   ],
   "source": [
    "print(v.count('snp'))\n",
    "print(v.count('indel'))\n",
    "print(v.count('unknow'))\n",
    "print len(v)"
   ]
  },
  {
   "cell_type": "code",
   "execution_count": 19,
   "metadata": {
    "collapsed": false
   },
   "outputs": [
    {
     "data": {
      "text/plain": [
       "1367"
      ]
     },
     "execution_count": 19,
     "metadata": {},
     "output_type": "execute_result"
    }
   ],
   "source": [
    "len(v) - len(p)"
   ]
  },
  {
   "cell_type": "code",
   "execution_count": 20,
   "metadata": {
    "collapsed": false
   },
   "outputs": [
    {
     "data": {
      "text/plain": [
       "1144"
      ]
     },
     "execution_count": 20,
     "metadata": {},
     "output_type": "execute_result"
    }
   ],
   "source": [
    "v.count('snp') - p.count('snp') "
   ]
  },
  {
   "cell_type": "code",
   "execution_count": 21,
   "metadata": {
    "collapsed": false
   },
   "outputs": [
    {
     "data": {
      "text/plain": [
       "223"
      ]
     },
     "execution_count": 21,
     "metadata": {},
     "output_type": "execute_result"
    }
   ],
   "source": [
    "v.count('indel') - p.count('indel') "
   ]
  },
  {
   "cell_type": "code",
   "execution_count": 22,
   "metadata": {
    "collapsed": false
   },
   "outputs": [
    {
     "name": "stdout",
     "output_type": "stream",
     "text": [
      "0\n"
     ]
    }
   ],
   "source": [
    "ChrUn = p.count('chrUn_gl000216')\n",
    "print p.count('chrUn_gl000216')"
   ]
  },
  {
   "cell_type": "code",
   "execution_count": 23,
   "metadata": {
    "collapsed": false
   },
   "outputs": [
    {
     "data": {
      "text/plain": [
       "str"
      ]
     },
     "execution_count": 23,
     "metadata": {},
     "output_type": "execute_result"
    }
   ],
   "source": [
    "type(record.CHROM)"
   ]
  },
  {
   "cell_type": "code",
   "execution_count": 24,
   "metadata": {
    "collapsed": false
   },
   "outputs": [
    {
     "name": "stdout",
     "output_type": "stream",
     "text": [
      "0\n"
     ]
    }
   ],
   "source": [
    "chrM = p.count('chrM')\n",
    "print chrM"
   ]
  },
  {
   "cell_type": "code",
   "execution_count": 25,
   "metadata": {
    "collapsed": false
   },
   "outputs": [
    {
     "name": "stdout",
     "output_type": "stream",
     "text": [
      "0\n"
     ]
    }
   ],
   "source": [
    "Chr1 = p.count('chr1')\n",
    "print p.count('chr1')"
   ]
  },
  {
   "cell_type": "code",
   "execution_count": 26,
   "metadata": {
    "collapsed": false
   },
   "outputs": [
    {
     "name": "stdout",
     "output_type": "stream",
     "text": [
      "0\n"
     ]
    }
   ],
   "source": [
    "print p.count('chr2')"
   ]
  },
  {
   "cell_type": "code",
   "execution_count": 27,
   "metadata": {
    "collapsed": false
   },
   "outputs": [
    {
     "name": "stdout",
     "output_type": "stream",
     "text": [
      "0\n"
     ]
    }
   ],
   "source": [
    "ChrX = p.count('chrX') \n",
    "print p.count('chrX')"
   ]
  },
  {
   "cell_type": "code",
   "execution_count": 28,
   "metadata": {
    "collapsed": false
   },
   "outputs": [
    {
     "name": "stdout",
     "output_type": "stream",
     "text": [
      "0\n"
     ]
    }
   ],
   "source": [
    "Chr21 = p.count('chr21') \n",
    "print p.count('chr21')"
   ]
  },
  {
   "cell_type": "code",
   "execution_count": 29,
   "metadata": {
    "collapsed": false
   },
   "outputs": [
    {
     "name": "stdout",
     "output_type": "stream",
     "text": [
      "0\n"
     ]
    }
   ],
   "source": [
    "ChrY= p.count('chrY')\n",
    "print p.count('chrY')"
   ]
  },
  {
   "cell_type": "code",
   "execution_count": 30,
   "metadata": {
    "collapsed": false
   },
   "outputs": [
    {
     "ename": "NameError",
     "evalue": "name 'l' is not defined",
     "output_type": "error",
     "traceback": [
      "\u001b[0;31m---------------------------------------------------------------------------\u001b[0m",
      "\u001b[0;31mNameError\u001b[0m                                 Traceback (most recent call last)",
      "\u001b[0;32m<ipython-input-30-deee55651d03>\u001b[0m in \u001b[0;36m<module>\u001b[0;34m()\u001b[0m\n\u001b[0;32m----> 1\u001b[0;31m \u001b[0mDEL\u001b[0m \u001b[0;34m=\u001b[0m  \u001b[0ml\u001b[0m\u001b[0;34m.\u001b[0m\u001b[0mcount\u001b[0m\u001b[0;34m(\u001b[0m\u001b[0;34m'del'\u001b[0m\u001b[0;34m)\u001b[0m\u001b[0;34m\u001b[0m\u001b[0m\n\u001b[0m\u001b[1;32m      2\u001b[0m \u001b[0;32mprint\u001b[0m \u001b[0ml\u001b[0m\u001b[0;34m.\u001b[0m\u001b[0mcount\u001b[0m\u001b[0;34m(\u001b[0m\u001b[0;34m'del'\u001b[0m\u001b[0;34m)\u001b[0m\u001b[0;34m\u001b[0m\u001b[0m\n",
      "\u001b[0;31mNameError\u001b[0m: name 'l' is not defined"
     ]
    }
   ],
   "source": [
    "DEL =  l.count('del')\n",
    "print l.count('del')\n"
   ]
  },
  {
   "cell_type": "code",
   "execution_count": 31,
   "metadata": {
    "collapsed": false
   },
   "outputs": [
    {
     "ename": "NameError",
     "evalue": "name 'l' is not defined",
     "output_type": "error",
     "traceback": [
      "\u001b[0;31m---------------------------------------------------------------------------\u001b[0m",
      "\u001b[0;31mNameError\u001b[0m                                 Traceback (most recent call last)",
      "\u001b[0;32m<ipython-input-31-b89030f19fbb>\u001b[0m in \u001b[0;36m<module>\u001b[0;34m()\u001b[0m\n\u001b[0;32m----> 1\u001b[0;31m \u001b[0mINS\u001b[0m\u001b[0;34m=\u001b[0m \u001b[0ml\u001b[0m\u001b[0;34m.\u001b[0m\u001b[0mcount\u001b[0m\u001b[0;34m(\u001b[0m\u001b[0;34m'ins'\u001b[0m\u001b[0;34m)\u001b[0m\u001b[0;34m\u001b[0m\u001b[0m\n\u001b[0m\u001b[1;32m      2\u001b[0m \u001b[0;32mprint\u001b[0m \u001b[0ml\u001b[0m\u001b[0;34m.\u001b[0m\u001b[0mcount\u001b[0m\u001b[0;34m(\u001b[0m\u001b[0;34m'ins'\u001b[0m\u001b[0;34m)\u001b[0m\u001b[0;34m\u001b[0m\u001b[0m\n",
      "\u001b[0;31mNameError\u001b[0m: name 'l' is not defined"
     ]
    }
   ],
   "source": [
    "INS= l.count('ins')\n",
    "print l.count('ins')\n"
   ]
  },
  {
   "cell_type": "code",
   "execution_count": 32,
   "metadata": {
    "collapsed": false
   },
   "outputs": [
    {
     "ename": "NameError",
     "evalue": "name 'l' is not defined",
     "output_type": "error",
     "traceback": [
      "\u001b[0;31m---------------------------------------------------------------------------\u001b[0m",
      "\u001b[0;31mNameError\u001b[0m                                 Traceback (most recent call last)",
      "\u001b[0;32m<ipython-input-32-9e6850e1fb06>\u001b[0m in \u001b[0;36m<module>\u001b[0;34m()\u001b[0m\n\u001b[0;32m----> 1\u001b[0;31m \u001b[0mDesconocido\u001b[0m \u001b[0;34m=\u001b[0m \u001b[0ml\u001b[0m\u001b[0;34m.\u001b[0m\u001b[0mcount\u001b[0m\u001b[0;34m(\u001b[0m\u001b[0;34m'unknown'\u001b[0m\u001b[0;34m)\u001b[0m\u001b[0;34m\u001b[0m\u001b[0m\n\u001b[0m\u001b[1;32m      2\u001b[0m \u001b[0;32mprint\u001b[0m \u001b[0ml\u001b[0m\u001b[0;34m.\u001b[0m\u001b[0mcount\u001b[0m\u001b[0;34m(\u001b[0m\u001b[0;34m'unknown'\u001b[0m\u001b[0;34m)\u001b[0m\u001b[0;34m\u001b[0m\u001b[0m\n",
      "\u001b[0;31mNameError\u001b[0m: name 'l' is not defined"
     ]
    }
   ],
   "source": [
    "Desconocido = l.count('unknown')\n",
    "print l.count('unknown')"
   ]
  },
  {
   "cell_type": "code",
   "execution_count": 33,
   "metadata": {
    "collapsed": false
   },
   "outputs": [
    {
     "ename": "NameError",
     "evalue": "name 'l' is not defined",
     "output_type": "error",
     "traceback": [
      "\u001b[0;31m---------------------------------------------------------------------------\u001b[0m",
      "\u001b[0;31mNameError\u001b[0m                                 Traceback (most recent call last)",
      "\u001b[0;32m<ipython-input-33-0f55cad6c78f>\u001b[0m in \u001b[0;36m<module>\u001b[0;34m()\u001b[0m\n\u001b[0;32m----> 1\u001b[0;31m \u001b[0;32mprint\u001b[0m \u001b[0ml\u001b[0m\u001b[0;34m.\u001b[0m\u001b[0mcount\u001b[0m\u001b[0;34m(\u001b[0m\u001b[0;34m'ts'\u001b[0m\u001b[0;34m)\u001b[0m\u001b[0;34m\u001b[0m\u001b[0m\n\u001b[0m",
      "\u001b[0;31mNameError\u001b[0m: name 'l' is not defined"
     ]
    }
   ],
   "source": [
    "print l.count('ts')"
   ]
  },
  {
   "cell_type": "code",
   "execution_count": 34,
   "metadata": {
    "collapsed": false
   },
   "outputs": [
    {
     "ename": "NameError",
     "evalue": "name 'l' is not defined",
     "output_type": "error",
     "traceback": [
      "\u001b[0;31m---------------------------------------------------------------------------\u001b[0m",
      "\u001b[0;31mNameError\u001b[0m                                 Traceback (most recent call last)",
      "\u001b[0;32m<ipython-input-34-474a60afd0d7>\u001b[0m in \u001b[0;36m<module>\u001b[0;34m()\u001b[0m\n\u001b[0;32m----> 1\u001b[0;31m \u001b[0;32mprint\u001b[0m \u001b[0ml\u001b[0m\u001b[0;34m.\u001b[0m\u001b[0mcount\u001b[0m\u001b[0;34m(\u001b[0m\u001b[0;34m'tv'\u001b[0m\u001b[0;34m)\u001b[0m\u001b[0;34m\u001b[0m\u001b[0m\n\u001b[0m",
      "\u001b[0;31mNameError\u001b[0m: name 'l' is not defined"
     ]
    }
   ],
   "source": [
    "print l.count('tv')"
   ]
  },
  {
   "cell_type": "code",
   "execution_count": 6,
   "metadata": {
    "collapsed": false
   },
   "outputs": [],
   "source": [
    "import plotly\n",
    "from plotly import __version__\n",
    "from plotly.offline import download_plotlyjs, init_notebook_mode, iplot\n",
    "import plotly.plotly as py\n",
    "py.sign_in('jennifersegura1', 'dcgxydbt1l')\n",
    "import plotly.tools as tls\n",
    "tls.set_credentials_file(username='jlo1', api_key='p28n6ixb4z')\n",
    "\n",
    "\n"
   ]
  },
  {
   "cell_type": "code",
   "execution_count": 36,
   "metadata": {
    "collapsed": false,
    "scrolled": true
   },
   "outputs": [
    {
     "data": {
      "text/html": [
       "<iframe id=\"igraph\" scrolling=\"no\" style=\"border:none;\" seamless=\"seamless\" src=\"https://plot.ly/~jlo1/3.embed\" height=\"525px\" width=\"100%\"></iframe>"
      ],
      "text/plain": [
       "<plotly.tools.PlotlyDisplay object>"
      ]
     },
     "execution_count": 36,
     "metadata": {},
     "output_type": "execute_result"
    }
   ],
   "source": [
    "# Learn about API authentication here: https://plot.ly/python/getting-started\n",
    "# Find your api_key here: https://plot.ly/settings/api\n",
    "import plotly.plotly as py\n",
    "import plotly.graph_objs as go\n",
    "\n",
    "x = ['SNP', 'INDELS', 'DESCONOCIDOS']\n",
    "y = [ SNP, INDEL,DESCONOCIDO]\n",
    "\n",
    "data = [\n",
    "    go.Bar(\n",
    "        x=x,\n",
    "        y=y,\n",
    "        marker=dict(\n",
    "            color='rgba(128,0,128,0.4)',\n",
    "            line=dict(\n",
    "                color='rgba(128,0,128,1.0)',\n",
    "                width=1.5\n",
    "            ),\n",
    "        ),\n",
    "        opacity=0.6\n",
    "    )\n",
    "]\n",
    "layout = go.Layout( \n",
    "    annotations=[\n",
    "        dict(\n",
    "            x=xi,\n",
    "            y=yi,\n",
    "            text=str(yi),\n",
    "            xanchor='center',\n",
    "            yanchor='bottom',\n",
    "            showarrow=False,\n",
    "        ) for xi, yi in zip(x, y)]\n",
    ")\n",
    "\n",
    "fig = go.Figure(data=data, layout=layout)\n",
    "py.iplot(fig, filename='Variantesillumina')\n"
   ]
  },
  {
   "cell_type": "code",
   "execution_count": 77,
   "metadata": {
    "collapsed": false
   },
   "outputs": [
    {
     "data": {
      "text/html": [
       "<iframe id=\"igraph\" scrolling=\"no\" style=\"border:none;\" seamless=\"seamless\" src=\"https://plot.ly/~jennifersegura1/4.embed\" height=\"525px\" width=\"100%\"></iframe>"
      ],
      "text/plain": [
       "<plotly.tools.PlotlyDisplay object>"
      ]
     },
     "execution_count": 77,
     "metadata": {},
     "output_type": "execute_result"
    }
   ],
   "source": [
    "# Learn about API authentication here: https://plot.ly/python/getting-started\n",
    "# Find your api_key here: https://plot.ly/settings/api\n",
    "import plotly.plotly as py\n",
    "import plotly.graph_objs as go\n",
    "\n",
    "x = ['SNP', 'INDELS', 'DESCONOCIDOS']\n",
    "y = [p.count('snp'), p.count('indel'), p.count('unknow')]\n",
    "\n",
    "data = [\n",
    "    go.Bar(\n",
    "        x=x,\n",
    "        y=y,\n",
    "        marker=dict(\n",
    "            color='rgba(0,255,0,0.6)',\n",
    "            line=dict(\n",
    "                color='rgba(0,255,0,1.0)',\n",
    "                width=1.5\n",
    "            ),\n",
    "        ),\n",
    "        opacity=0.6\n",
    "    )\n",
    "]\n",
    "layout = go.Layout(\n",
    "    annotations=[\n",
    "        dict(x=xi,y=yi,\n",
    "             text=str(yi),\n",
    "             xanchor='center',\n",
    "             yanchor='bottom',\n",
    "             showarrow=False,\n",
    "        ) for xi, yi in zip(x, y)]\n",
    ") \n",
    "\n",
    "fig = go.Figure(data=data, layout=layout)\n",
    "py.iplot(fig, filename='Variantes calibradas')\n"
   ]
  },
  {
   "cell_type": "code",
   "execution_count": 1,
   "metadata": {
    "collapsed": false
   },
   "outputs": [],
   "source": [
    "import vcf\n",
    "vcf_reader = vcf.Reader(open('output.vcf', 'r'))\n",
    "\n",
    "c=[]\n",
    "for record in vcf_reader:\n",
    "    c.append(record.CHROM)\n",
    "\n",
    "a = []\n",
    "for record in vcf_reader:\n",
    "    a.append(record.POS)\n",
    "\n",
    "d = []\n",
    "for record in vcf_reader:\n",
    "    d.append(record.var_type)\n"
   ]
  },
  {
   "cell_type": "code",
   "execution_count": 2,
   "metadata": {
    "collapsed": false
   },
   "outputs": [],
   "source": [
    "import vcf\n",
    "vcf_reader = vcf.Reader(open('puro.vcf', 'r'))\n",
    "\n",
    "t=[]\n",
    "for record in vcf_reader:\n",
    "    t.append(record.CHROM)\n",
    "\n",
    "g = []\n",
    "for record in vcf_reader:\n",
    "    a.append(record.POS)\n",
    "\n",
    "m = []\n",
    "for record in vcf_reader:\n",
    "    d.append(record.var_type)\n"
   ]
  },
  {
   "cell_type": "code",
   "execution_count": 4,
   "metadata": {
    "collapsed": false
   },
   "outputs": [
    {
     "name": "stdout",
     "output_type": "stream",
     "text": [
      "32850\n",
      "34217\n"
     ]
    },
    {
     "ename": "NameError",
     "evalue": "name 'r' is not defined",
     "output_type": "error",
     "traceback": [
      "\u001b[0;31m---------------------------------------------------------------------------\u001b[0m",
      "\u001b[0;31mNameError\u001b[0m                                 Traceback (most recent call last)",
      "\u001b[0;32m<ipython-input-4-d11868ba5edb>\u001b[0m in \u001b[0;36m<module>\u001b[0;34m()\u001b[0m\n\u001b[1;32m      1\u001b[0m \u001b[0;32mprint\u001b[0m \u001b[0mlen\u001b[0m\u001b[0;34m(\u001b[0m\u001b[0mt\u001b[0m\u001b[0;34m)\u001b[0m\u001b[0;34m\u001b[0m\u001b[0m\n\u001b[1;32m      2\u001b[0m \u001b[0;32mprint\u001b[0m \u001b[0mlen\u001b[0m\u001b[0;34m(\u001b[0m\u001b[0mc\u001b[0m\u001b[0;34m)\u001b[0m\u001b[0;34m\u001b[0m\u001b[0m\n\u001b[0;32m----> 3\u001b[0;31m \u001b[0;32mprint\u001b[0m \u001b[0mlen\u001b[0m\u001b[0;34m(\u001b[0m\u001b[0mr\u001b[0m\u001b[0;34m)\u001b[0m\u001b[0;34m\u001b[0m\u001b[0m\n\u001b[0m",
      "\u001b[0;31mNameError\u001b[0m: name 'r' is not defined"
     ]
    }
   ],
   "source": [
    "print len(t)\n",
    "print len(c)\n",
    "print len(r)"
   ]
  },
  {
   "cell_type": "code",
   "execution_count": 7,
   "metadata": {
    "collapsed": false,
    "scrolled": true
   },
   "outputs": [
    {
     "data": {
      "text/html": [
       "<iframe id=\"igraph\" scrolling=\"no\" style=\"border:none;\" seamless=\"seamless\" src=\"https://plot.ly/~jennifersegura1/6.embed\" height=\"525px\" width=\"100%\"></iframe>"
      ],
      "text/plain": [
       "<plotly.tools.PlotlyDisplay object>"
      ]
     },
     "execution_count": 7,
     "metadata": {},
     "output_type": "execute_result"
    }
   ],
   "source": [
    "import plotly.plotly as py\n",
    "import plotly.graph_objs as go\n",
    "from plotly.tools import FigureFactory as FF\n",
    "\n",
    "\n",
    "# Create random data with numpy\n",
    "import numpy as np\n",
    "\n",
    "chrm = [1,2,3,4,5,6,7,8,9,10,11,12,13,14,15,16,17,18,19,20,21,22]\n",
    "# Create traces\n",
    "trace0 = go.Scatter(\n",
    "    x = chrm,\n",
    "    y =  [c.count('chr1'), c.count('chr2'),c.count('chr3'),c.count('chr4'),c.count('chr5'),c.count('chr6'),c.count('chr7'),\n",
    "          c.count('chr8'),c.count('chr9'),c.count('chr10'),c.count('chr11'),c.count('chr12'),c.count('chr13'),c.count('chr14'),\n",
    "          c.count('chr15'),c.count('chr16'),c.count('chr17'),c.count('chr18'),c.count('chr19'),c.count('chr20'),c.count('chr21'),\n",
    "          c.count('chr22')],\n",
    "    mode = 'lines+markers',\n",
    "    name = 'Variantes de \"pipeline\"',\n",
    "    marker=dict(color='rgba(128,0,128,0.4)')\n",
    ")\n",
    "trace1 = go.Scatter(\n",
    "    x = [1,2,3,4,5,6,7,8,9,10,11,12,13,14,15,16,17,18,19,20,21,22],\n",
    "    y = [t.count('chr1'), t.count('chr2'),t.count('chr3'),t.count('chr4'),t.count('chr5'),t.count('chr6'),t.count('chr7'),\n",
    "          t.count('chr8'),t.count('chr9'),t.count('chr10'),t.count('chr11'),t.count('chr12'),t.count('chr13'),t.count('chr14'),\n",
    "          t.count('chr15'),t.count('chr16'),t.count('chr17'),t.count('chr18'),t.count('chr19'),t.count('chr20'),t.count('chr21'),\n",
    "          t.count('chr22')],\n",
    "    mode = 'lines+markers',\n",
    "    name = 'Variantes Públicas', \n",
    "    marker=dict(color=\"rgba(255,255,0,0.5)\")\n",
    "    \n",
    ")\n",
    "data = [trace0,trace1]\n",
    "layout = dict(title = 'Distribución de variantes por cromosoma',\n",
    "              xaxis = dict(title = 'No Cromosomas'),\n",
    "              yaxis = dict(title = 'Variantes'),\n",
    "              )\n",
    "fig = dict(data=data, layout=layout)\n",
    "\n",
    "# Plot and embed in ipython notebook!\n",
    "py.iplot(fig, filename='variantescomparadas')\n",
    "\n",
    "#py.image.save_as(fig, filename='variaciones.png')"
   ]
  },
  {
   "cell_type": "code",
   "execution_count": 8,
   "metadata": {
    "collapsed": false
   },
   "outputs": [
    {
     "data": {
      "text/html": [
       "<iframe id=\"igraph\" scrolling=\"no\" style=\"border:none;\" seamless=\"seamless\" src=\"https://plot.ly/~jennifersegura1/10.embed\" height=\"525px\" width=\"100%\"></iframe>"
      ],
      "text/plain": [
       "<plotly.tools.PlotlyDisplay object>"
      ]
     },
     "execution_count": 8,
     "metadata": {},
     "output_type": "execute_result"
    }
   ],
   "source": [
    "import plotly.plotly as py\n",
    "import plotly.graph_objs as go\n",
    "\n",
    "trace0 = go.Bar(\n",
    "    x=['Chr1','Chr2','Chr3','Chr4','Chr5','Chr6','Chr7','Chr8','Chr9','Chr10','Chr11','Chr12','Chr13',\n",
    "       'Chr14','Chr15','Chr16','Chr17','Chr18','Chr19','Chr20','Chr21','Chr22','ChrX'],\n",
    "    y=[c.count('chr1'), c.count('chr2'),c.count('chr3'),c.count('chr4'),c.count('chr5'),c.count('chr6'),c.count('chr7'),\n",
    "          c.count('chr8'),c.count('chr9'),c.count('chr10'),c.count('chr11'),c.count('chr12'),c.count('chr13'),c.count('chr14'),\n",
    "          c.count('chr15'),c.count('chr16'),c.count('chr17'),c.count('chr18'),c.count('chr19'),c.count('chr20'),c.count('chr21'),\n",
    "          c.count('chr22'),c.count('chrX')],\n",
    "    name='Variantes \"pipeline\"',\n",
    "    marker=dict(\n",
    "        color='rgba(128,0,128,0.4)'\n",
    "    )\n",
    ")\n",
    "trace1 = go.Bar(\n",
    "    x=['Chr1','Chr2','Chr3','Chr4','Chr5','Chr6','Chr7','Chr8','Chr9','Chr10','Chr11','Chr12','Chr13','Chr14','Chr15','Chr16','Chr17','Chr18','Chr19','Chr20','Chr21','Chr22','ChrX'],\n",
    "    y=[t.count('chr1'), t.count('chr2'),t.count('chr3'),t.count('chr4'),t.count('chr5'),t.count('chr6'),t.count('chr7'),\n",
    "          t.count('chr8'),t.count('chr9'),t.count('chr10'),t.count('chr11'),t.count('chr12'),t.count('chr13'),t.count('chr14'),\n",
    "          t.count('chr15'),t.count('chr16'),t.count('chr17'),t.count('chr18'),t.count('chr19'),t.count('chr20'),t.count('chr21'),\n",
    "          t.count('chr22'), t.count('chrX')],\n",
    "    name='Variantes exoma NA12878',\n",
    "    marker=dict(\n",
    "        color='rgba(0,255,0,0.6)',\n",
    "    )\n",
    ")\n",
    "\n",
    "data = [trace0, trace1]\n",
    "layout = go.Layout(\n",
    "    xaxis=dict( title = 'Distribución de variantes por cromosoma',\n",
    "    tickangle=-45,autotick=False),\n",
    "    barmode='group',\n",
    ")\n",
    "\n",
    "fig = go.Figure(data=data, layout=layout)\n",
    "py.iplot(fig, filename='angled-text-bar')\n"
   ]
  },
  {
   "cell_type": "code",
   "execution_count": 34,
   "metadata": {
    "collapsed": false
   },
   "outputs": [],
   "source": [
    "z = ['Cromosoma','Variantes']\n",
    "x = [1,2,3,4,5,6,7,8,9,10,11,12,13,14,15,16,17,18,19,20,21,22,'X','Y']\n",
    "a = [c.count('chr1'), c.count('chr2'),c.count('chr3'),c.count('chr4'),c.count('chr5'),c.count('chr6'),c.count('chr7'),\n",
    "          c.count('chr8'),c.count('chr9'),c.count('chr10'),c.count('chr11'),c.count('chr12'),c.count('chr13'),c.count('chr14'),\n",
    "          c.count('chr15'),c.count('chr16'),c.count('chr17'),c.count('chr18'),c.count('chr19'),c.count('chr20'),c.count('chr21'),\n",
    "          c.count('chr22'),c.count('chrX')]\n",
    "y= [t.count('chr1'), t.count('chr2'),t.count('chr3'),t.count('chr4'),t.count('chr5'),t.count('chr6'),t.count('chr7'),\n",
    "          t.count('chr8'),t.count('chr9'),t.count('chr10'),t.count('chr11'),t.count('chr12'),t.count('chr13'),t.count('chr14'),\n",
    "          t.count('chr15'),t.count('chr16'),t.count('chr17'),t.count('chr18'),t.count('chr19'),t.count('chr20'),t.count('chr21'),\n",
    "          t.count('chr22'),t.count('chrX')]\n",
    "\n"
   ]
  },
  {
   "cell_type": "code",
   "execution_count": 35,
   "metadata": {
    "collapsed": false
   },
   "outputs": [
    {
     "name": "stdout",
     "output_type": "stream",
     "text": [
      "[['Cromosoma', 'Variantes publicas', 'Variantes Omics'], [1, 3329, 3438], [2, 2483, 2586], [3, 1887, 1906], [4, 1497, 1546], [5, 1358, 1377], [6, 1489, 1540], [7, 1581, 1658], [8, 1088, 1111], [9, 1514, 1595], [10, 1406, 1529], [11, 2183, 2256], [12, 1669, 1698], [13, 720, 736], [14, 1044, 1111], [15, 1192, 1230], [16, 1294, 1372], [17, 1781, 1921], [18, 545, 607], [19, 2001, 2060], [20, 807, 820], [21, 490, 500], [22, 755, 795], ['X', 737, 755]]\n"
     ]
    }
   ],
   "source": [
    "var = [['Cromosoma','Variantes publicas','Variantes Omics'],\n",
    "       [x[0],y[0],a[0]],\n",
    "       [x[1],y[1],a[1]],\n",
    "       [x[2],y[2],a[2]],\n",
    "       [x[3],y[3],a[3]],\n",
    "       [x[4],y[4],a[4]],\n",
    "       [x[5],y[5],a[5]],\n",
    "       [x[6],y[6],a[6]],\n",
    "       [x[7],y[7],a[7]],\n",
    "       [x[8],y[8],a[8]],\n",
    "       [x[9],y[9],a[9]],\n",
    "       [x[10],y[10],a[10]],\n",
    "       [x[11],y[11],a[11]],\n",
    "       [x[12],y[12],a[12]],\n",
    "       [x[13],y[13],a[13]],\n",
    "       [x[14],y[14],a[14]],\n",
    "       [x[15],y[15],a[15]],\n",
    "       [x[16],y[16],a[16]],\n",
    "       [x[17],y[17],a[17]],\n",
    "       [x[18],y[18],a[18]],\n",
    "       [x[19],y[19],a[19]],\n",
    "       [x[20],y[20],a[20]],\n",
    "       [x[21],y[21],a[21]],\n",
    "       [x[22],y[22],a[22]],\n",
    "      ]\n",
    "print(var)\n"
   ]
  },
  {
   "cell_type": "code",
   "execution_count": 36,
   "metadata": {
    "collapsed": false
   },
   "outputs": [
    {
     "data": {
      "text/html": [
       "<iframe id=\"igraph\" scrolling=\"no\" style=\"border:none;\" seamless=\"seamless\" src=\"https://plot.ly/~jevelezse/40.embed\" height=\"770px\" width=\"500px\"></iframe>"
      ],
      "text/plain": [
       "<plotly.tools.PlotlyDisplay object>"
      ]
     },
     "execution_count": 36,
     "metadata": {},
     "output_type": "execute_result"
    }
   ],
   "source": [
    "import plotly.plotly as py\n",
    "from plotly.tools import FigureFactory as FF\n",
    "\n",
    "colorscale = [[0, '#99ccff'],[.5, '#cce5ff'],[1, '#ffffff']]\n",
    "\n",
    "table = FF.create_table(var,index=True,colorscale = colorscale)\n",
    "table.layout.width=500\n",
    "py.iplot(table, filename='latex_table')"
   ]
  },
  {
   "cell_type": "code",
   "execution_count": 38,
   "metadata": {
    "collapsed": false,
    "scrolled": false
   },
   "outputs": [
    {
     "data": {
      "text/html": [
       "<iframe id=\"igraph\" scrolling=\"no\" style=\"border:none;\" seamless=\"seamless\" src=\"https://plot.ly/~jevelezse/34.embed\" height=\"600px\" width=\"600px\"></iframe>"
      ],
      "text/plain": [
       "<plotly.tools.PlotlyDisplay object>"
      ]
     },
     "execution_count": 38,
     "metadata": {},
     "output_type": "execute_result"
    }
   ],
   "source": [
    "import plotly.plotly as py\n",
    "import plotly.graph_objs as go\n",
    "\n",
    "trace0 = go.Scatter(\n",
    "    x=[0.5,1.5,2.5],\n",
    "    y=[1,1,1],\n",
    "    text=['50.6%','49.4% 44.0%' ,'56.0%'],\n",
    "    mode='text',\n",
    "    textfont=dict(\n",
    "        color='black',\n",
    "        size=18,\n",
    "        family='Arail',\n",
    "    )\n",
    ")\n",
    "\n",
    "data = [trace0]\n",
    "\n",
    "layout = {\n",
    "    'xaxis': {\n",
    "        'showticklabels': False,\n",
    "        'autotick': False,\n",
    "        'showgrid': False,\n",
    "        'zeroline': False,\n",
    "    },\n",
    "    'yaxis': {\n",
    "        'showticklabels': False,\n",
    "        'autotick': False,\n",
    "        'showgrid': False,\n",
    "        'zeroline': False,\n",
    "    },\n",
    "    'shapes': [\n",
    "        {\n",
    "            'opacity': 0.3,\n",
    "            'xref': 'x',\n",
    "            'yref': 'y',\n",
    "            'fillcolor': 'blue',\n",
    "            'x0': 0,\n",
    "            'y0': 0,\n",
    "            'x1': 2,\n",
    "            'y1': 2,\n",
    "            'type': 'circle',\n",
    "            'line': {\n",
    "                'color': 'blue',\n",
    "            },\n",
    "        },\n",
    "        {\n",
    "            'opacity': 0.3,\n",
    "            'xref': 'x',\n",
    "            'yref': 'y',\n",
    "            'fillcolor': 'purple',\n",
    "            'x0': 1,\n",
    "            'y0': 0,\n",
    "            'x1': 3.2,\n",
    "            'y1': 2,\n",
    "            'type': 'circle',\n",
    "            'line': {\n",
    "                'color': 'purple',\n",
    "            },\n",
    "        }\n",
    "    ],\n",
    "    'margin': {\n",
    "        'l': 20,\n",
    "        'r': 20,\n",
    "        'b': 100\n",
    "    },\n",
    "    'height': 600,\n",
    "    'width': 600,\n",
    "}\n",
    "fig = {\n",
    "    'data': data,\n",
    "    'layout': layout,\n",
    "}\n",
    "py.iplot(fig, filename='venn-diagram')\n"
   ]
  },
  {
   "cell_type": "code",
   "execution_count": 66,
   "metadata": {
    "collapsed": false,
    "scrolled": false
   },
   "outputs": [
    {
     "name": "stdout",
     "output_type": "stream",
     "text": [
      "High five! You successfuly sent some data to your account on plotly. View your plot in your browser at https://plot.ly/~jlo1/0 or inside your plot.ly account where it is named 'venn-diagram'\n"
     ]
    },
    {
     "data": {
      "text/html": [
       "<iframe id=\"igraph\" scrolling=\"no\" style=\"border:none;\" seamless=\"seamless\" src=\"https://plot.ly/~jlo1/0.embed\" height=\"600px\" width=\"600px\"></iframe>"
      ],
      "text/plain": [
       "<plotly.tools.PlotlyDisplay object>"
      ]
     },
     "execution_count": 66,
     "metadata": {},
     "output_type": "execute_result"
    }
   ],
   "source": [
    "import plotly.plotly as py\n",
    "import plotly.graph_objs as go\n",
    "\n",
    "trace0 = go.Scatter(\n",
    "    x=[0.1,0.2],\n",
    "    y=[0.1,0.1],\n",
    "    text=['100% 96%','4%'],\n",
    "    mode='text',\n",
    "    textfont=dict(\n",
    "        color='black',\n",
    "        size=18,\n",
    "        family='Arail',\n",
    "    )\n",
    ")\n",
    "\n",
    "data = [trace0]\n",
    "\n",
    "layout = {\n",
    "    'xaxis': {\n",
    "        'showticklabels': False,\n",
    "        'autotick': False,\n",
    "        'showgrid': False,\n",
    "        'zeroline': False,\n",
    "    },\n",
    "    'yaxis': {\n",
    "        'showticklabels': False,\n",
    "        'autotick': False,\n",
    "        'showgrid': False,\n",
    "        'zeroline': False,\n",
    "    },\n",
    "    'shapes': [\n",
    "        {\n",
    "            'opacity': 0.3,\n",
    "            'xref': 'x',\n",
    "            'yref': 'y',\n",
    "            'fillcolor': 'blue',\n",
    "            'x0': 0,\n",
    "            'y0': 0,\n",
    "            'x1': 0.2,\n",
    "            'y1': 0.2,\n",
    "            'type': 'circle',\n",
    "            'line': {\n",
    "                'color': 'blue',\n",
    "            },\n",
    "        },\n",
    "        {\n",
    "            'opacity': 0.3,\n",
    "            'xref': 'x',\n",
    "            'yref': 'y',\n",
    "            'fillcolor': 'purple',\n",
    "            'x0': 0,\n",
    "            'y0': 0,\n",
    "            'x1': 0.21,\n",
    "            'y1': 0.2,\n",
    "            'type': 'circle',\n",
    "            'line': {\n",
    "                'color': 'purple',\n",
    "            },\n",
    "        }\n",
    "    ],\n",
    "    'margin': {\n",
    "        'l': 20,\n",
    "        'r': 20,\n",
    "        'b': 100\n",
    "    },\n",
    "    'height': 600,\n",
    "    'width': 600,\n",
    "}\n",
    "fig = {\n",
    "    'data': data,\n",
    "    'layout': layout,\n",
    "}\n",
    "py.iplot(fig, filename='venn-diagram')\n"
   ]
  }
 ],
 "metadata": {
  "kernelspec": {
   "display_name": "Python 2",
   "language": "python",
   "name": "python2"
  },
  "language_info": {
   "codemirror_mode": {
    "name": "ipython",
    "version": 2
   },
   "file_extension": ".py",
   "mimetype": "text/x-python",
   "name": "python",
   "nbconvert_exporter": "python",
   "pygments_lexer": "ipython2",
   "version": "2.7.12"
  }
 },
 "nbformat": 4,
 "nbformat_minor": 0
}
