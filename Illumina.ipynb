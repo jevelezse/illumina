{
 "cells": [
  {
   "cell_type": "code",
   "execution_count": 2,
   "metadata": {
    "collapsed": false
   },
   "outputs": [],
   "source": [
    "import vcf\n",
    "vcf_reader = vcf.Reader(open('31050_S1.vcf', 'r'))\n"
   ]
  },
  {
   "cell_type": "code",
   "execution_count": 3,
   "metadata": {
    "collapsed": false,
    "scrolled": false
   },
   "outputs": [],
   "source": [
    "v = []\n",
    "for record in vcf_reader:\n",
    "    v.append(record.var_type)\n",
    "    "
   ]
  },
  {
   "cell_type": "code",
   "execution_count": 4,
   "metadata": {
    "collapsed": false
   },
   "outputs": [
    {
     "name": "stdout",
     "output_type": "stream",
     "text": [
      "9601\n"
     ]
    }
   ],
   "source": [
    "SNP = v.count('snp')\n",
    "print SNP"
   ]
  },
  {
   "cell_type": "code",
   "execution_count": 5,
   "metadata": {
    "collapsed": false
   },
   "outputs": [],
   "source": [
    "INDEL = v.count('indel')"
   ]
  },
  {
   "cell_type": "code",
   "execution_count": 6,
   "metadata": {
    "collapsed": true
   },
   "outputs": [],
   "source": [
    "DESCONOCIDO = v.count('unknow')"
   ]
  },
  {
   "cell_type": "code",
   "execution_count": 7,
   "metadata": {
    "collapsed": false
   },
   "outputs": [
    {
     "data": {
      "text/plain": [
       "10037"
      ]
     },
     "execution_count": 7,
     "metadata": {},
     "output_type": "execute_result"
    }
   ],
   "source": [
    "len(v)"
   ]
  },
  {
   "cell_type": "code",
   "execution_count": 8,
   "metadata": {
    "collapsed": false
   },
   "outputs": [],
   "source": [
    "vcf_reader = vcf.Reader(open('31050_S1.vcf', 'r'))\n",
    "p = []\n",
    "for record in vcf_reader:\n",
    "    p.append(record.CHROM)"
   ]
  },
  {
   "cell_type": "code",
   "execution_count": 9,
   "metadata": {
    "collapsed": false
   },
   "outputs": [
    {
     "name": "stdout",
     "output_type": "stream",
     "text": [
      "0\n"
     ]
    }
   ],
   "source": [
    "ChrUn = p.count('chrUn_gl000216')\n",
    "print p.count('chrUn_gl000216')"
   ]
  },
  {
   "cell_type": "code",
   "execution_count": 10,
   "metadata": {
    "collapsed": false
   },
   "outputs": [
    {
     "data": {
      "text/plain": [
       "str"
      ]
     },
     "execution_count": 10,
     "metadata": {},
     "output_type": "execute_result"
    }
   ],
   "source": [
    "type(record.CHROM)"
   ]
  },
  {
   "cell_type": "code",
   "execution_count": 11,
   "metadata": {
    "collapsed": false
   },
   "outputs": [
    {
     "name": "stdout",
     "output_type": "stream",
     "text": [
      "0\n"
     ]
    }
   ],
   "source": [
    "chrM = p.count('chrM')\n",
    "print chrM"
   ]
  },
  {
   "cell_type": "code",
   "execution_count": 12,
   "metadata": {
    "collapsed": false
   },
   "outputs": [
    {
     "name": "stdout",
     "output_type": "stream",
     "text": [
      "964\n"
     ]
    }
   ],
   "source": [
    "Chr1 = p.count('chr1')\n",
    "print p.count('chr1')"
   ]
  },
  {
   "cell_type": "code",
   "execution_count": 13,
   "metadata": {
    "collapsed": false
   },
   "outputs": [
    {
     "name": "stdout",
     "output_type": "stream",
     "text": [
      "701\n"
     ]
    }
   ],
   "source": [
    "print p.count('chr2')"
   ]
  },
  {
   "cell_type": "code",
   "execution_count": 14,
   "metadata": {
    "collapsed": false
   },
   "outputs": [
    {
     "name": "stdout",
     "output_type": "stream",
     "text": [
      "249\n"
     ]
    }
   ],
   "source": [
    "ChrX = p.count('chrX') \n",
    "print p.count('chrX')"
   ]
  },
  {
   "cell_type": "code",
   "execution_count": 15,
   "metadata": {
    "collapsed": false
   },
   "outputs": [
    {
     "name": "stdout",
     "output_type": "stream",
     "text": [
      "136\n"
     ]
    }
   ],
   "source": [
    "Chr21 = p.count('chr21') \n",
    "print p.count('chr21')"
   ]
  },
  {
   "cell_type": "code",
   "execution_count": 16,
   "metadata": {
    "collapsed": false
   },
   "outputs": [
    {
     "name": "stdout",
     "output_type": "stream",
     "text": [
      "10\n"
     ]
    }
   ],
   "source": [
    "ChrY= p.count('chrY')\n",
    "print p.count('chrY')"
   ]
  },
  {
   "cell_type": "code",
   "execution_count": 17,
   "metadata": {
    "collapsed": false
   },
   "outputs": [
    {
     "name": "stdout",
     "output_type": "stream",
     "text": [
      "5921\n"
     ]
    }
   ],
   "source": [
    "vcf_reader = vcf.Reader(open('31050_S1.vcf', 'r'))\n",
    "p = []\n",
    "for record in vcf_reader:\n",
    "    p.append(record.QUAL)\n",
    "cuenta = 0\n",
    "for i in p:\n",
    "    if i >= 1000:\n",
    "        cuenta = cuenta +1\n",
    "print(cuenta)"
   ]
  },
  {
   "cell_type": "code",
   "execution_count": 18,
   "metadata": {
    "collapsed": false
   },
   "outputs": [],
   "source": [
    "vcf_reader = vcf.Reader(open('31050_S1.vcf', 'r'))\n",
    "l=[]\n",
    "for record in vcf_reader:\n",
    "    l.append(record.var_subtype)"
   ]
  },
  {
   "cell_type": "code",
   "execution_count": 19,
   "metadata": {
    "collapsed": false
   },
   "outputs": [
    {
     "name": "stdout",
     "output_type": "stream",
     "text": [
      "240\n"
     ]
    }
   ],
   "source": [
    "DEL =  l.count('del')\n",
    "print l.count('del')\n"
   ]
  },
  {
   "cell_type": "code",
   "execution_count": 20,
   "metadata": {
    "collapsed": false
   },
   "outputs": [
    {
     "name": "stdout",
     "output_type": "stream",
     "text": [
      "173\n"
     ]
    }
   ],
   "source": [
    "INS= l.count('ins')\n",
    "print l.count('ins')\n"
   ]
  },
  {
   "cell_type": "code",
   "execution_count": 21,
   "metadata": {
    "collapsed": false
   },
   "outputs": [
    {
     "name": "stdout",
     "output_type": "stream",
     "text": [
      "28\n"
     ]
    }
   ],
   "source": [
    "Desconocido = l.count('unknown')\n",
    "print l.count('unknown')"
   ]
  },
  {
   "cell_type": "code",
   "execution_count": 22,
   "metadata": {
    "collapsed": false
   },
   "outputs": [
    {
     "name": "stdout",
     "output_type": "stream",
     "text": [
      "6929\n"
     ]
    }
   ],
   "source": [
    "print l.count('ts')"
   ]
  },
  {
   "cell_type": "code",
   "execution_count": 23,
   "metadata": {
    "collapsed": false
   },
   "outputs": [
    {
     "name": "stdout",
     "output_type": "stream",
     "text": [
      "2667\n"
     ]
    }
   ],
   "source": [
    "print l.count('tv')"
   ]
  },
  {
   "cell_type": "code",
   "execution_count": 24,
   "metadata": {
    "collapsed": false
   },
   "outputs": [],
   "source": [
    "vcf_reader = vcf.Reader(open('31050_S1_L001.vcf', 'r'))\n",
    "m=[]\n",
    "for record in vcf_reader:\n",
    "    m.append(record.num_hom_alt)"
   ]
  },
  {
   "cell_type": "code",
   "execution_count": 25,
   "metadata": {
    "collapsed": false
   },
   "outputs": [
    {
     "name": "stdout",
     "output_type": "stream",
     "text": [
      "34391\n"
     ]
    }
   ],
   "source": [
    "print sum(m)"
   ]
  },
  {
   "cell_type": "code",
   "execution_count": 26,
   "metadata": {
    "collapsed": false
   },
   "outputs": [
    {
     "name": "stdout",
     "output_type": "stream",
     "text": [
      "53453\n"
     ]
    }
   ],
   "source": [
    "vcf_reader = vcf.Reader(open('31050_S1_L001.vcf', 'r'))\n",
    "record = next(vcf_reader)\n",
    "k=[]\n",
    "for record in vcf_reader:\n",
    "    k.append(record.INFO[\"FS\"])\n",
    "cuenta = 0\n",
    "for i in k:\n",
    "    if i == 0.0:\n",
    "        cuenta = cuenta +1\n",
    "print(cuenta)"
   ]
  },
  {
   "cell_type": "code",
   "execution_count": 27,
   "metadata": {
    "collapsed": false
   },
   "outputs": [
    {
     "data": {
      "text/plain": [
       "9940"
      ]
     },
     "execution_count": 27,
     "metadata": {},
     "output_type": "execute_result"
    }
   ],
   "source": [
    "63393 - 53453"
   ]
  },
  {
   "cell_type": "code",
   "execution_count": 29,
   "metadata": {
    "collapsed": false
   },
   "outputs": [],
   "source": [
    "import plotly\n",
    "from plotly import __version__\n",
    "from plotly.offline import download_plotlyjs, init_notebook_mode, iplot\n",
    "import plotly.plotly as py\n",
    "py.sign_in('jlo1', 'p28n6ixb4z')\n",
    "import plotly.tools as tls\n",
    "tls.set_credentials_file(username='jlo1', api_key='p28n6ixb4z')\n",
    "\n",
    "\n"
   ]
  },
  {
   "cell_type": "code",
   "execution_count": 30,
   "metadata": {
    "collapsed": false
   },
   "outputs": [
    {
     "data": {
      "text/html": [
       "<iframe id=\"igraph\" scrolling=\"no\" style=\"border:none;\" seamless=\"seamless\" src=\"https://plot.ly/~jlo1/3.embed\" height=\"525px\" width=\"100%\"></iframe>"
      ],
      "text/plain": [
       "<plotly.tools.PlotlyDisplay object>"
      ]
     },
     "execution_count": 30,
     "metadata": {},
     "output_type": "execute_result"
    }
   ],
   "source": [
    "# Learn about API authentication here: https://plot.ly/python/getting-started\n",
    "# Find your api_key here: https://plot.ly/settings/api\n",
    "import plotly.plotly as py\n",
    "import plotly.graph_objs as go\n",
    "\n",
    "x = ['SNP', 'INDELS', 'DESCONOCIDOS']\n",
    "y = [int(SNP), int(INDEL), int(Desconocido)]\n",
    "\n",
    "data = [\n",
    "    go.Bar(\n",
    "        x=x,\n",
    "        y=y,\n",
    "        marker=dict(\n",
    "            color='rgba(219, 64, 82, 0.7)',\n",
    "            line=dict(\n",
    "                color='rgba(219, 64, 82, 1.0)',\n",
    "                width=1.5\n",
    "            ),\n",
    "        ),\n",
    "        opacity=0.6\n",
    "    )\n",
    "]\n",
    "layout = go.Layout( \n",
    "    annotations=[\n",
    "        dict(\n",
    "            x=xi,\n",
    "            y=yi,\n",
    "            text=str(yi),\n",
    "            xanchor='center',\n",
    "            yanchor='bottom',\n",
    "            showarrow=False,\n",
    "        ) for xi, yi in zip(x, y)]\n",
    ")\n",
    "\n",
    "fig = go.Figure(data=data, layout=layout)\n",
    "py.iplot(fig, filename='Variantesillumina')\n"
   ]
  },
  {
   "cell_type": "code",
   "execution_count": 31,
   "metadata": {
    "collapsed": false
   },
   "outputs": [
    {
     "data": {
      "text/html": [
       "<iframe id=\"igraph\" scrolling=\"no\" style=\"border:none;\" seamless=\"seamless\" src=\"https://plot.ly/~jlo1/7.embed\" height=\"525px\" width=\"100%\"></iframe>"
      ],
      "text/plain": [
       "<plotly.tools.PlotlyDisplay object>"
      ]
     },
     "execution_count": 31,
     "metadata": {},
     "output_type": "execute_result"
    }
   ],
   "source": [
    "# Learn about API authentication here: https://plot.ly/python/getting-started\n",
    "# Find your api_key here: https://plot.ly/settings/api\n",
    "import plotly.plotly as py\n",
    "import plotly.graph_objs as go\n",
    "\n",
    "x = ['SNP', 'INDELS', 'DESCONOCIDOS']\n",
    "y = [10425, 828, 44]\n",
    "\n",
    "data = [\n",
    "    go.Bar(\n",
    "        x=x,\n",
    "        y=y,\n",
    "        marker=dict(\n",
    "            color='rgba(54, 192, 3, 0.7)',\n",
    "            line=dict(\n",
    "                color='rgba(245, 246, 249, 1)',\n",
    "                width=1.5\n",
    "            ),\n",
    "        ),\n",
    "        opacity=0.6\n",
    "    )\n",
    "]\n",
    "layout = go.Layout(\n",
    "    annotations=[\n",
    "        dict(\n",
    "            x=x,\n",
    "            y=y,\n",
    "            text=(y),\n",
    "            xanchor='center',\n",
    "            yanchor='bottom',\n",
    "            showarrow=False,\n",
    "        ) for x, y in zip(x, y)]\n",
    ")\n",
    "\n",
    "fig = go.Figure(data=data, layout=layout)\n",
    "py.iplot(fig, filename='Variantes calibradas')\n"
   ]
  },
  {
   "cell_type": "code",
   "execution_count": 32,
   "metadata": {
    "collapsed": false
   },
   "outputs": [],
   "source": [
    "import vcf\n",
    "vcf_reader = vcf.Reader(open('/home/jennifer/Desktop/31050_S1.vcf', 'r'))\n",
    "\n",
    "for record in vcf_reader:\n",
    "    p.append(record.CHROM)\n",
    "\n",
    "a = []\n",
    "for record in vcf_reader:\n",
    "    a.append(record.POS)\n",
    "\n",
    "v = []\n",
    "for record in vcf_reader:\n",
    "    v.append(record.var_type)\n"
   ]
  },
  {
   "cell_type": "code",
   "execution_count": 33,
   "metadata": {
    "collapsed": false,
    "scrolled": true
   },
   "outputs": [
    {
     "data": {
      "text/html": [
       "<iframe id=\"igraph\" scrolling=\"no\" style=\"border:none;\" seamless=\"seamless\" src=\"https://plot.ly/~jlo1/9.embed\" height=\"525px\" width=\"100%\"></iframe>"
      ],
      "text/plain": [
       "<plotly.tools.PlotlyDisplay object>"
      ]
     },
     "execution_count": 33,
     "metadata": {},
     "output_type": "execute_result"
    }
   ],
   "source": [
    "import plotly.plotly as py\n",
    "import plotly.graph_objs as go\n",
    "from plotly.tools import FigureFactory as FF\n",
    "\n",
    "\n",
    "# Create random data with numpy\n",
    "import numpy as np\n",
    "\n",
    "chrm = [1,2,3,4,5,6,7,8,9,10,11,12,13,14,15,16,17,18,19,20,21,22]\n",
    "# Create traces\n",
    "trace0 = go.Scatter(\n",
    "    x = chrm,\n",
    "    y =  [p.count('chr1'), p.count('chr2'),p.count('chr3'),p.count('chr4'),p.count('chr5'),p.count('chr6'),p.count('chr7'),\n",
    "          p.count('chr8'),p.count('chr9'),p.count('chr10'),p.count('chr11'),p.count('chr12'),p.count('chr13'),p.count('chr14'),\n",
    "          p.count('chr15'),p.count('chr16'),p.count('chr17'),p.count('chr18'),p.count('chr19'),p.count('chr20'),p.count('chr21'),\n",
    "          p.count('chr22')],\n",
    "    mode = 'lines+markers',\n",
    "    name = 'Variantes de Ilumina',\n",
    "    marker=dict(color=\"rgba(51, 0, 102, 0.7)\")\n",
    ")\n",
    "trace1 = go.Scatter(\n",
    "    x = [1,2,3,4,5,6,7,8,9,10,11,12,13,14,15,16,17,18,19,20,21,22],\n",
    "    y = [5600,4675,3546,2959,2702,3384,3313,2306,2799,2998,3289,3192,1433,1530,2233,2529,3172,1434,2651,1245,1135,1315],\n",
    "    mode = 'lines+markers',\n",
    "    name = 'Variantes Omics', \n",
    "    marker=dict(color=\"rgba(219, 64, 82, 0.7)\")\n",
    "    \n",
    ")\n",
    "trace2 = go.Scatter(\n",
    "    x = [1,2,3,4,5,6,7,8,9,10,11,12,13,14,15,16,17,18,19,20,21,22],\n",
    "    y = [1000,782,676,481,502,556,502,415,491,524,776,607,223,275,400,478,681,184,704,244,178,271],\n",
    "    mode = 'lines+markers',\n",
    "    name = 'Variantes calibradas', \n",
    "    marker=dict(color=\"rgba(54, 192, 3, 0.7)\")\n",
    ")\n",
    "data = [trace0,trace1,trace2]\n",
    "layout = dict(title = 'Distribución de variantes por cromosoma',\n",
    "              xaxis = dict(title = 'No Cromosomas'),\n",
    "              yaxis = dict(title = 'Variantes'),\n",
    "              )\n",
    "fig = dict(data=data, layout=layout)\n",
    "\n",
    "# Plot and embed in ipython notebook!\n",
    "py.iplot(fig, filename='variantescomparadas')\n",
    "\n",
    "#py.image.save_as(fig, filename='variaciones.png')"
   ]
  },
  {
   "cell_type": "code",
   "execution_count": 34,
   "metadata": {
    "collapsed": false
   },
   "outputs": [],
   "source": [
    "z = ['Cromosoma','Variantes']\n",
    "x = [1,2,3,4,5,6,7,8,9,10,11,12,13,14,15,16,17,18,19,20,21,22,'X','Y']\n",
    "b = [p.count('chr1'), p.count('chr2'),p.count('chr3'),p.count('chr4'),p.count('chr5'),p.count('chr6'),p.count('chr7'),\n",
    "          p.count('chr8'),p.count('chr9'),p.count('chr10'),p.count('chr11'),p.count('chr12'),p.count('chr13'),p.count('chr14'),\n",
    "          p.count('chr15'),p.count('chr16'),p.count('chr17'),p.count('chr18'),p.count('chr19'),p.count('chr20'),p.count('chr21'),\n",
    "          p.count('chr22'),p.count('chrX'),p.count('chrY')]\n",
    "y= [5600,4675,3546,2959,2702,3384,3313,2306,2799,2998,3289,3192,1433,1530,2233,2529,3172,1434,2651,1245,1135,1315,1615,437]\n",
    "\n",
    "a =  [1000,782,676,481,502,556,502,415,491,524,776,607,223,275,400,478,681,184,704,244,178,271,299,4]"
   ]
  },
  {
   "cell_type": "code",
   "execution_count": 35,
   "metadata": {
    "collapsed": false
   },
   "outputs": [
    {
     "name": "stdout",
     "output_type": "stream",
     "text": [
      "[['Cromosoma', 'Variantes Omics', 'Variantes Calibradas', 'Variantes Illumina'], [1, 5600, 1000, 964], [2, 4675, 782, 701], [3, 3546, 676, 540], [4, 2959, 481, 414], [5, 2702, 502, 438], [6, 3384, 556, 795], [7, 3313, 502, 447], [8, 2306, 415, 372], [9, 2799, 491, 401], [10, 2998, 524, 381], [11, 3289, 776, 610], [12, 3192, 607, 535], [13, 1433, 223, 191], [14, 1530, 275, 258], [15, 2233, 400, 327], [16, 2529, 478, 472], [17, 3172, 681, 611], [18, 1434, 184, 184], [19, 2651, 704, 544], [20, 1245, 244, 195], [21, 1135, 178, 136], [22, 1315, 271, 262], ['X', 1615, 299, 249], ['Y', 437, 4, 10]]\n"
     ]
    }
   ],
   "source": [
    "var = [['Cromosoma','Variantes Omics','Variantes Calibradas','Variantes Illumina'],\n",
    "       [x[0],y[0],a[0],b[0]],\n",
    "       [x[1],y[1],a[1],b[1]],\n",
    "       [x[2],y[2],a[2],b[2]],\n",
    "       [x[3],y[3],a[3],b[3]],\n",
    "       [x[4],y[4],a[4],b[4]],\n",
    "       [x[5],y[5],a[5],b[5]],\n",
    "       [x[6],y[6],a[6],b[6]],\n",
    "       [x[7],y[7],a[7],b[7]],\n",
    "       [x[8],y[8],a[8],b[8]],\n",
    "       [x[9],y[9],a[9],b[9]],\n",
    "       [x[10],y[10],a[10],b[10]],\n",
    "       [x[11],y[11],a[11],b[11]],\n",
    "       [x[12],y[12],a[12],b[12]],\n",
    "       [x[13],y[13],a[13],b[13]],\n",
    "       [x[14],y[14],a[14],b[14]],\n",
    "       [x[15],y[15],a[15],b[15]],\n",
    "       [x[16],y[16],a[16],b[16]],\n",
    "       [x[17],y[17],a[17],b[17]],\n",
    "       [x[18],y[18],a[18],b[18]],\n",
    "       [x[19],y[19],a[19],b[19]],\n",
    "       [x[20],y[20],a[20],b[20]],\n",
    "       [x[21],y[21],a[21],b[21]],\n",
    "       [x[22],y[22],a[22],b[22]],\n",
    "       [x[23],y[23],a[23],b[23]],\n",
    "      ]\n",
    "print(var)\n"
   ]
  },
  {
   "cell_type": "code",
   "execution_count": 36,
   "metadata": {
    "collapsed": false
   },
   "outputs": [
    {
     "data": {
      "text/html": [
       "<iframe id=\"igraph\" scrolling=\"no\" style=\"border:none;\" seamless=\"seamless\" src=\"https://plot.ly/~jlo1/5.embed\" height=\"800px\" width=\"500px\"></iframe>"
      ],
      "text/plain": [
       "<plotly.tools.PlotlyDisplay object>"
      ]
     },
     "execution_count": 36,
     "metadata": {},
     "output_type": "execute_result"
    }
   ],
   "source": [
    "import plotly.plotly as py\n",
    "from plotly.tools import FigureFactory as FF\n",
    "\n",
    "table = FF.create_table(var,index=True)\n",
    "table.layout.width=500\n",
    "py.iplot(table, filename='latex_table')"
   ]
  },
  {
   "cell_type": "code",
   "execution_count": 59,
   "metadata": {
    "collapsed": false,
    "scrolled": true
   },
   "outputs": [
    {
     "data": {
      "text/html": [
       "<iframe id=\"igraph\" scrolling=\"no\" style=\"border:none;\" seamless=\"seamless\" src=\"https://plot.ly/~jennytombraider/27.embed\" height=\"600px\" width=\"600px\"></iframe>"
      ],
      "text/plain": [
       "<plotly.tools.PlotlyDisplay object>"
      ]
     },
     "execution_count": 59,
     "metadata": {},
     "output_type": "execute_result"
    }
   ],
   "source": [
    "import plotly.plotly as py\n",
    "import plotly.graph_objs as go\n",
    "\n",
    "trace0 = go.Scatter(\n",
    "    x=[0.5,1.5,2.5],\n",
    "    y=[1,1,1],\n",
    "    text=['$Omics$', '$OmicsIllumina$', '$Illumina$'],\n",
    "    mode='text',\n",
    "    textfont=dict(\n",
    "        color='black',\n",
    "        size=18,\n",
    "        family='Arail',\n",
    "    )\n",
    ")\n",
    "\n",
    "data = [trace0]\n",
    "\n",
    "layout = {\n",
    "    'xaxis': {\n",
    "        'showticklabels': False,\n",
    "        'autotick': False,\n",
    "        'showgrid': False,\n",
    "        'zeroline': False,\n",
    "    },\n",
    "    'yaxis': {\n",
    "        'showticklabels': False,\n",
    "        'autotick': False,\n",
    "        'showgrid': False,\n",
    "        'zeroline': False,\n",
    "    },\n",
    "    'shapes': [\n",
    "        {\n",
    "            'opacity': 0.3,\n",
    "            'xref': 'x',\n",
    "            'yref': 'y',\n",
    "            'fillcolor': 'blue',\n",
    "            'x0': 0,\n",
    "            'y0': 0,\n",
    "            'x1': 2,\n",
    "            'y1': 2,\n",
    "            'type': 'circle',\n",
    "            'line': {\n",
    "                'color': 'blue',\n",
    "            },\n",
    "        },\n",
    "        {\n",
    "            'opacity': 0.3,\n",
    "            'xref': 'x',\n",
    "            'yref': 'y',\n",
    "            'fillcolor': 'green',\n",
    "            'x0': 1,\n",
    "            'y0': 0,\n",
    "            'x1': 3,\n",
    "            'y1': 2,\n",
    "            'type': 'circle',\n",
    "            'line': {\n",
    "                'color': 'green',\n",
    "            },\n",
    "        }\n",
    "    ],\n",
    "    'margin': {\n",
    "        'l': 20,\n",
    "        'r': 20,\n",
    "        'b': 100\n",
    "    },\n",
    "    'height': 600,\n",
    "    'width': 600,\n",
    "}\n",
    "fig = {\n",
    "    'data': data,\n",
    "    'layout': layout,\n",
    "}\n",
    "py.iplot(fig, filename='venn-diagram')\n"
   ]
  },
  {
   "cell_type": "code",
   "execution_count": null,
   "metadata": {
    "collapsed": true
   },
   "outputs": [],
   "source": []
  }
 ],
 "metadata": {
  "kernelspec": {
   "display_name": "Python 2",
   "language": "python",
   "name": "python2"
  },
  "language_info": {
   "codemirror_mode": {
    "name": "ipython",
    "version": 2
   },
   "file_extension": ".py",
   "mimetype": "text/x-python",
   "name": "python",
   "nbconvert_exporter": "python",
   "pygments_lexer": "ipython2",
   "version": "2.7.11"
  }
 },
 "nbformat": 4,
 "nbformat_minor": 0
}
