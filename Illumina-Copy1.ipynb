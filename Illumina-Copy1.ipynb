{
 "cells": [
  {
   "cell_type": "code",
   "execution_count": 2,
   "metadata": {
    "collapsed": false
   },
   "outputs": [],
   "source": [
    "import vcf\n",
    "vcf_reader = vcf.Reader(open('output.vcf', 'r'))\n"
   ]
  },
  {
   "cell_type": "code",
   "execution_count": 3,
   "metadata": {
    "collapsed": false,
    "scrolled": false
   },
   "outputs": [],
   "source": [
    "v = []\n",
    "for record in vcf_reader:\n",
    "    v.append(record.var_type)\n",
    "    "
   ]
  },
  {
   "cell_type": "code",
   "execution_count": 4,
   "metadata": {
    "collapsed": false
   },
   "outputs": [
    {
     "name": "stdout",
     "output_type": "stream",
     "text": [
      "10425\n"
     ]
    }
   ],
   "source": [
    "SNP = v.count('snp')\n",
    "print SNP"
   ]
  },
  {
   "cell_type": "code",
   "execution_count": 5,
   "metadata": {
    "collapsed": false
   },
   "outputs": [],
   "source": [
    "INDEL = v.count('indel')"
   ]
  },
  {
   "cell_type": "code",
   "execution_count": 6,
   "metadata": {
    "collapsed": false
   },
   "outputs": [
    {
     "data": {
      "text/plain": [
       "11253"
      ]
     },
     "execution_count": 6,
     "metadata": {},
     "output_type": "execute_result"
    }
   ],
   "source": [
    "len(v)"
   ]
  },
  {
   "cell_type": "code",
   "execution_count": 7,
   "metadata": {
    "collapsed": false
   },
   "outputs": [
    {
     "name": "stdout",
     "output_type": "stream",
     "text": [
      "('chrY', 13489234)\n"
     ]
    }
   ],
   "source": [
    "print (record.CHROM,record.POS)\n"
   ]
  },
  {
   "cell_type": "code",
   "execution_count": 24,
   "metadata": {
    "collapsed": false
   },
   "outputs": [],
   "source": [
    "vcf_reader = vcf.Reader(open('31050_S1_L001.vcf', 'r'))\n",
    "p = []\n",
    "for record in vcf_reader:\n",
    "    p.append(record.CHROM)"
   ]
  },
  {
   "cell_type": "code",
   "execution_count": 9,
   "metadata": {
    "collapsed": false
   },
   "outputs": [
    {
     "name": "stdout",
     "output_type": "stream",
     "text": [
      "0\n"
     ]
    }
   ],
   "source": [
    "ChrUn = p.count('chrUn_gl000216')\n",
    "print p.count('chrUn_gl000216')"
   ]
  },
  {
   "cell_type": "code",
   "execution_count": 10,
   "metadata": {
    "collapsed": false
   },
   "outputs": [
    {
     "name": "stdout",
     "output_type": "stream",
     "text": [
      "0\n"
     ]
    }
   ],
   "source": [
    "chrM = p.count('chrM')\n",
    "print chrM"
   ]
  },
  {
   "cell_type": "code",
   "execution_count": 11,
   "metadata": {
    "collapsed": false
   },
   "outputs": [
    {
     "name": "stdout",
     "output_type": "stream",
     "text": [
      "1000\n"
     ]
    }
   ],
   "source": [
    "Chr1 = p.count('chr1')\n",
    "print p.count('chr1')"
   ]
  },
  {
   "cell_type": "code",
   "execution_count": 12,
   "metadata": {
    "collapsed": false
   },
   "outputs": [
    {
     "name": "stdout",
     "output_type": "stream",
     "text": [
      "782\n"
     ]
    }
   ],
   "source": [
    "print p.count('chr2')"
   ]
  },
  {
   "cell_type": "code",
   "execution_count": 25,
   "metadata": {
    "collapsed": false,
    "scrolled": true
   },
   "outputs": [
    {
     "name": "stdout",
     "output_type": "stream",
     "text": [
      "1615\n"
     ]
    }
   ],
   "source": [
    "ChrX = p.count('chrX') \n",
    "print p.count('chrX')"
   ]
  },
  {
   "cell_type": "code",
   "execution_count": 26,
   "metadata": {
    "collapsed": false
   },
   "outputs": [
    {
     "name": "stdout",
     "output_type": "stream",
     "text": [
      "1135\n"
     ]
    }
   ],
   "source": [
    "Chr21 = p.count('chr21') \n",
    "print p.count('chr21')"
   ]
  },
  {
   "cell_type": "code",
   "execution_count": 27,
   "metadata": {
    "collapsed": false
   },
   "outputs": [
    {
     "name": "stdout",
     "output_type": "stream",
     "text": [
      "437\n"
     ]
    }
   ],
   "source": [
    "ChrY= p.count('chrY')\n",
    "print p.count('chrY')"
   ]
  },
  {
   "cell_type": "code",
   "execution_count": 16,
   "metadata": {
    "collapsed": false
   },
   "outputs": [
    {
     "name": "stdout",
     "output_type": "stream",
     "text": [
      "11253\n"
     ]
    }
   ],
   "source": [
    "vcf_reader = vcf.Reader(open('output.vcf', 'r'))\n",
    "p = []\n",
    "for record in vcf_reader:\n",
    "    p.append(record.QUAL)\n",
    "cuenta = 0\n",
    "for i in p:\n",
    "    if i >= 1000:\n",
    "        cuenta = cuenta +1\n",
    "print(cuenta)"
   ]
  },
  {
   "cell_type": "code",
   "execution_count": 17,
   "metadata": {
    "collapsed": false
   },
   "outputs": [],
   "source": [
    "vcf_reader = vcf.Reader(open('output.vcf', 'r'))\n",
    "l=[]\n",
    "for record in vcf_reader:\n",
    "    l.append(record.var_subtype)"
   ]
  },
  {
   "cell_type": "code",
   "execution_count": 20,
   "metadata": {
    "collapsed": false
   },
   "outputs": [
    {
     "name": "stdout",
     "output_type": "stream",
     "text": [
      "392\n"
     ]
    }
   ],
   "source": [
    "DEL =  l.count('del')\n",
    "print l.count('del')\n"
   ]
  },
  {
   "cell_type": "code",
   "execution_count": 21,
   "metadata": {
    "collapsed": false
   },
   "outputs": [
    {
     "name": "stdout",
     "output_type": "stream",
     "text": [
      "401\n"
     ]
    }
   ],
   "source": [
    "INS= l.count('ins')\n",
    "print l.count('ins')\n"
   ]
  },
  {
   "cell_type": "code",
   "execution_count": 22,
   "metadata": {
    "collapsed": false
   },
   "outputs": [
    {
     "name": "stdout",
     "output_type": "stream",
     "text": [
      "44\n"
     ]
    }
   ],
   "source": [
    "Desconocido = l.count('unknown')\n",
    "print l.count('unknown')"
   ]
  },
  {
   "cell_type": "code",
   "execution_count": 23,
   "metadata": {
    "collapsed": false
   },
   "outputs": [
    {
     "name": "stdout",
     "output_type": "stream",
     "text": [
      "7566\n"
     ]
    }
   ],
   "source": [
    "print l.count('ts')"
   ]
  },
  {
   "cell_type": "code",
   "execution_count": 67,
   "metadata": {
    "collapsed": false
   },
   "outputs": [
    {
     "name": "stdout",
     "output_type": "stream",
     "text": [
      "2850\n"
     ]
    }
   ],
   "source": [
    "print l.count('tv')"
   ]
  },
  {
   "cell_type": "code",
   "execution_count": 68,
   "metadata": {
    "collapsed": false
   },
   "outputs": [],
   "source": [
    "vcf_reader = vcf.Reader(open('31050_S1_L001.vcf', 'r'))\n",
    "m=[]\n",
    "for record in vcf_reader:\n",
    "    m.append(record.num_hom_alt)"
   ]
  },
  {
   "cell_type": "code",
   "execution_count": 69,
   "metadata": {
    "collapsed": false
   },
   "outputs": [
    {
     "name": "stdout",
     "output_type": "stream",
     "text": [
      "34391\n"
     ]
    }
   ],
   "source": [
    "print sum(m)"
   ]
  },
  {
   "cell_type": "code",
   "execution_count": 42,
   "metadata": {
    "collapsed": false
   },
   "outputs": [
    {
     "name": "stdout",
     "output_type": "stream",
     "text": [
      "53453\n"
     ]
    }
   ],
   "source": [
    "vcf_reader = vcf.Reader(open('31050_S1_L001.vcf', 'r'))\n",
    "record = next(vcf_reader)\n",
    "k=[]\n",
    "for record in vcf_reader:\n",
    "    k.append(record.INFO[\"FS\"])\n",
    "cuenta = 0\n",
    "for i in k:\n",
    "    if i == 0.0:\n",
    "        cuenta = cuenta +1\n",
    "print(cuenta)"
   ]
  },
  {
   "cell_type": "code",
   "execution_count": 33,
   "metadata": {
    "collapsed": false
   },
   "outputs": [
    {
     "data": {
      "text/plain": [
       "9940"
      ]
     },
     "execution_count": 33,
     "metadata": {},
     "output_type": "execute_result"
    }
   ],
   "source": [
    "63393 - 53453"
   ]
  },
  {
   "cell_type": "code",
   "execution_count": 70,
   "metadata": {
    "collapsed": false
   },
   "outputs": [],
   "source": [
    "import plotly\n",
    "from plotly import __version__\n",
    "from plotly.offline import download_plotlyjs, init_notebook_mode, iplot\n",
    "import plotly.plotly as py\n",
    "py.sign_in('jennytombraider', 'thf4hmopz4')\n",
    "import requests\n",
    "from requests.auth import HTTPProxyAuth\n",
    "\n"
   ]
  },
  {
   "cell_type": "code",
   "execution_count": 71,
   "metadata": {
    "collapsed": false
   },
   "outputs": [
    {
     "data": {
      "text/html": [
       "<iframe id=\"igraph\" scrolling=\"no\" style=\"border:none;\" seamless=\"seamless\" src=\"https://plot.ly/~jennytombraider/4.embed\" height=\"525px\" width=\"100%\"></iframe>"
      ],
      "text/plain": [
       "<plotly.tools.PlotlyDisplay object>"
      ]
     },
     "execution_count": 71,
     "metadata": {},
     "output_type": "execute_result"
    }
   ],
   "source": [
    "# Learn about API authentication here: https://plot.ly/python/getting-started\n",
    "# Find your api_key here: https://plot.ly/settings/api\n",
    "import plotly.plotly as py\n",
    "import plotly.graph_objs as go\n",
    "\n",
    "x = ['SNP', 'INDELS', 'DESCONOCIDOS']\n",
    "y = [int(SNP), int(INDEL), int(Desconocido)]\n",
    "\n",
    "data = [\n",
    "    go.Bar(\n",
    "        x=x,\n",
    "        y=y,\n",
    "        marker=dict(\n",
    "            color='rgba(219, 64, 82, 0.7)',\n",
    "            line=dict(\n",
    "                color='rgba(219, 64, 82, 1.0)',\n",
    "                width=1.5\n",
    "            ),\n",
    "        ),\n",
    "        opacity=0.6\n",
    "    )\n",
    "]\n",
    "layout = go.Layout(\n",
    "    annotations=[\n",
    "        dict(\n",
    "            x=xi,\n",
    "            y=yi,\n",
    "            text=str(yi),\n",
    "            xanchor='center',\n",
    "            yanchor='bottom',\n",
    "            showarrow=False,\n",
    "        ) for xi, yi in zip(x, y)]\n",
    ")\n",
    "\n",
    "fig = go.Figure(data=data, layout=layout)\n",
    "py.iplot(fig, filename='Variantesillumina')\n"
   ]
  },
  {
   "cell_type": "code",
   "execution_count": 24,
   "metadata": {
    "collapsed": false
   },
   "outputs": [
    {
     "data": {
      "text/html": [
       "<iframe id=\"igraph\" scrolling=\"no\" style=\"border:none;\" seamless=\"seamless\" src=\"https://plot.ly/~jennytombraider/14.embed\" height=\"525px\" width=\"100%\"></iframe>"
      ],
      "text/plain": [
       "<plotly.tools.PlotlyDisplay object>"
      ]
     },
     "execution_count": 24,
     "metadata": {},
     "output_type": "execute_result"
    }
   ],
   "source": [
    "# Learn about API authentication here: https://plot.ly/python/getting-started\n",
    "# Find your api_key here: https://plot.ly/settings/api\n",
    "import plotly.plotly as py\n",
    "import plotly.graph_objs as go\n",
    "\n",
    "x = ['SNP', 'INDELS', 'DESCONOCIDOS']\n",
    "y = [10425, 832, 0]\n",
    "\n",
    "data = [\n",
    "    go.Bar(\n",
    "        x=x,\n",
    "        y=y,\n",
    "        marker=dict(\n",
    "            color='rgba(54, 192, 3, 0.7)',\n",
    "            line=dict(\n",
    "                color='rgba(245, 246, 249, 1)',\n",
    "                width=1.5\n",
    "            ),\n",
    "        ),\n",
    "        opacity=0.6\n",
    "    )\n",
    "]\n",
    "layout = go.Layout(\n",
    "    annotations=[\n",
    "        dict(\n",
    "            x=xi,\n",
    "            y=yi,\n",
    "            text=str(yi),\n",
    "            xanchor='center',\n",
    "            yanchor='bottom',\n",
    "            showarrow=False,\n",
    "        ) for xi, yi in zip(x, y)]\n",
    ")\n",
    "\n",
    "fig = go.Figure(data=data, layout=layout)\n",
    "py.iplot(fig, filename='Variantes calibradas')\n"
   ]
  },
  {
   "cell_type": "code",
   "execution_count": 75,
   "metadata": {
    "collapsed": false
   },
   "outputs": [],
   "source": [
    "vcf_reader = vcf.Reader(open('31050_S1.vcf', 'r'))\n",
    "p = []\n",
    "for record in vcf_reader:\n",
    "    p.append(record.CHROM)\n",
    "\n",
    "\n"
   ]
  },
  {
   "cell_type": "code",
   "execution_count": 76,
   "metadata": {
    "collapsed": false,
    "scrolled": true
   },
   "outputs": [
    {
     "data": {
      "text/html": [
       "<iframe id=\"igraph\" scrolling=\"no\" style=\"border:none;\" seamless=\"seamless\" src=\"https://plot.ly/~jennytombraider/19.embed\" height=\"525px\" width=\"100%\"></iframe>"
      ],
      "text/plain": [
       "<plotly.tools.PlotlyDisplay object>"
      ]
     },
     "execution_count": 76,
     "metadata": {},
     "output_type": "execute_result"
    }
   ],
   "source": [
    "import plotly.plotly as py\n",
    "import plotly.graph_objs as go\n",
    "\n",
    "# Create random data with numpy\n",
    "import numpy as np\n",
    "\n",
    "chrm = [1,2,3,4,5,6,7,8,9,10,11,12,13,14,15,16,17,18,19,20,21,22]\n",
    "# Create traces\n",
    "trace0 = go.Scatter(\n",
    "    x = chrm,\n",
    "    y =  [p.count('chr1'), p.count('chr2'),p.count('chr3'),p.count('chr4'),p.count('chr5'),p.count('chr6'),p.count('chr7'),\n",
    "          p.count('chr8'),p.count('chr9'),p.count('chr10'),p.count('chr11'),p.count('chr12'),p.count('chr13'),p.count('chr14'),\n",
    "          p.count('chr15'),p.count('chr16'),p.count('chr17'),p.count('chr18'),p.count('chr19'),p.count('chr20'),p.count('chr21'),\n",
    "          p.count('chr22')],\n",
    "    mode = 'lines+markers',\n",
    "    name = 'Variantes de Ilumina',\n",
    "    marker=dict(color=\"rgba(51, 0, 102, 0.7)\")\n",
    ")\n",
    "trace1 = go.Scatter(\n",
    "    x = [1,2,3,4,5,6,7,8,9,10,11,12,13,14,15,16,17,18,19,20,21,22],\n",
    "    y = [5600,4675,3546,2959,2702,3384,3313,2306,2799,2998,3289,3192,1433,1530,2233,2529,3172,1434,2651,1245,1135,1315],\n",
    "    mode = 'lines+markers',\n",
    "    name = 'Variantes Omics', \n",
    "    marker=dict(color=\"rgba(219, 64, 82, 0.7)\")\n",
    "    \n",
    ")\n",
    "trace2 = go.Scatter(\n",
    "    x = [1,2,3,4,5,6,7,8,9,10,11,12,13,14,15,16,17,18,19,20,21,22],\n",
    "    y = [1001,783,679,481,502,556,502,416,491,524,776,607,223,275,400,478,681,184,704,244,179,271],\n",
    "    mode = 'lines+markers',\n",
    "    name = 'Variantes calibradas', \n",
    "    marker=dict(color=\"rgba(54, 192, 3, 0.7)\")\n",
    ")\n",
    "data = [trace0,trace1,trace2]\n",
    "layout = dict(title = 'Distribución de variantes por cromosoma',\n",
    "              xaxis = dict(title = 'No Cromosomas'),\n",
    "              yaxis = dict(title = 'Variantes'),\n",
    "              )\n",
    "fig = dict(data=data, layout=layout)\n",
    "\n",
    "# Plot and embed in ipython notebook!\n",
    "py.iplot(fig, filename='variantescomparadas')\n",
    "\n",
    "#py.image.save_as(fig, filename='variaciones.png')"
   ]
  },
  {
   "cell_type": "code",
   "execution_count": null,
   "metadata": {
    "collapsed": true
   },
   "outputs": [],
   "source": []
  }
 ],
 "metadata": {
  "kernelspec": {
   "display_name": "Python 2",
   "language": "python",
   "name": "python2"
  },
  "language_info": {
   "codemirror_mode": {
    "name": "ipython",
    "version": 2
   },
   "file_extension": ".py",
   "mimetype": "text/x-python",
   "name": "python",
   "nbconvert_exporter": "python",
   "pygments_lexer": "ipython2",
   "version": "2.7.11"
  }
 },
 "nbformat": 4,
 "nbformat_minor": 0
}
