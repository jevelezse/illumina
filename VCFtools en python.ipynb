{
 "cells": [
  {
   "cell_type": "code",
   "execution_count": 8,
   "metadata": {
    "collapsed": false
   },
   "outputs": [
    {
     "data": {
      "text/plain": [
       "\"sh: 1: 31050_S1_L001.vcf: not found\\nBroken VCF header, no column names?\\n at /usr/local/share/perl/5.18.2/Vcf.pm line 172.\\n\\tVcf::throw('Vcf4_2=HASH(0xe2dc60)', 'Broken VCF header, no column names?') called at /usr/local/share/perl/5.18.2/Vcf.pm line 867\\n\\tVcfReader::_read_column_names('Vcf4_2=HASH(0xe2dc60)') called at /usr/local/share/perl/5.18.2/Vcf.pm line 602\\n\\tVcfReader::parse_header('Vcf4_2=HASH(0xe2dc60)') called at /usr/local/bin/vcf-to-tab line 81\\n\\tmain::convert_to_tab('HASH(0xe01cb8)') called at /usr/local/bin/vcf-to-tab line 9\""
      ]
     },
     "execution_count": 8,
     "metadata": {},
     "output_type": "execute_result"
    }
   ],
   "source": [
    "import commands\n",
    "commands.getoutput(\"31050_S1_L001.vcf | vcf-to-tab > prueba.tab\")"
   ]
  },
  {
   "cell_type": "code",
   "execution_count": 11,
   "metadata": {
    "collapsed": false
   },
   "outputs": [
    {
     "data": {
      "text/plain": [
       "'\\nVCFtools - 0.1.15\\n(C) Adam Auton and Anthony Marcketta 2009\\n\\nParameters as interpreted:\\n\\t--vcf 31050_S1_L001.vcf\\n\\t--chr 1\\n\\t--freq\\n\\nAfter filtering, kept 1 out of 1 Individuals\\nOutputting Frequency Statistics...\\nAfter filtering, kept 0 out of a possible 63393 Sites\\nNo data left for analysis!\\nRun Time = 1.00 seconds'"
      ]
     },
     "execution_count": 11,
     "metadata": {},
     "output_type": "execute_result"
    }
   ],
   "source": [
    "commands.getoutput(\"vcftools --vcf 31050_S1_L001.vcf --freq --chr 1\")"
   ]
  },
  {
   "cell_type": "code",
   "execution_count": 24,
   "metadata": {
    "collapsed": false
   },
   "outputs": [
    {
     "data": {
      "text/plain": [
       "'\\nVCFtools - 0.1.15\\n(C) Adam Auton and Anthony Marcketta 2009\\n\\nParameters as interpreted:\\n\\t--vcf 31050_S1.vcf\\n\\t--minQ 30\\n\\nAfter filtering, kept 1 out of 1 Individuals\\nAfter filtering, kept 9277 out of a possible 10037 Sites\\nRun Time = 0.00 seconds'"
      ]
     },
     "execution_count": 24,
     "metadata": {},
     "output_type": "execute_result"
    }
   ],
   "source": [
    "commands.getoutput(\"vcftools --vcf  31050_S1.vcf --minQ 30\")"
   ]
  },
  {
   "cell_type": "code",
   "execution_count": 22,
   "metadata": {
    "collapsed": false
   },
   "outputs": [
    {
     "data": {
      "text/plain": [
       "'\\nVCFtools - 0.1.15\\n(C) Adam Auton and Anthony Marcketta 2009\\n\\nParameters as interpreted:\\n\\t--vcf 31050_S1.vcf\\n\\t--keep-only-indels\\n\\nAfter filtering, kept 1 out of 1 Individuals\\nAfter filtering, kept 436 out of a possible 10037 Sites\\nRun Time = 0.00 seconds'"
      ]
     },
     "execution_count": 22,
     "metadata": {},
     "output_type": "execute_result"
    }
   ],
   "source": [
    "commands.getoutput(\"vcftools --vcf 31050_S1.vcf --keep-only-indels \")"
   ]
  },
  {
   "cell_type": "code",
   "execution_count": 3,
   "metadata": {
    "collapsed": false
   },
   "outputs": [
    {
     "data": {
      "text/plain": [
       "'\\nVCFtools - 0.1.15\\n(C) Adam Auton and Anthony Marcketta 2009\\n\\nParameters as interpreted:\\n\\t--vcf 31050_S1_L001.vcf\\n\\nAfter filtering, kept 1 out of 1 Individuals\\nAfter filtering, kept 63393 out of a possible 63393 Sites\\nRun Time = 0.00 seconds'"
      ]
     },
     "execution_count": 3,
     "metadata": {},
     "output_type": "execute_result"
    }
   ],
   "source": [
    "commands.getoutput(\"vcftools --vcf 31050_S1_L001.vcf\")"
   ]
  },
  {
   "cell_type": "code",
   "execution_count": 8,
   "metadata": {
    "collapsed": false
   },
   "outputs": [
    {
     "data": {
      "text/plain": [
       "'\\nVCFtools - 0.1.15\\n(C) Adam Auton and Anthony Marcketta 2009\\n\\nParameters as interpreted:\\n\\t--vcf 31050_S1_L001.vcf\\n\\t--minQ 30\\n\\nAfter filtering, kept 1 out of 1 Individuals\\nAfter filtering, kept 63393 out of a possible 63393 Sites\\nRun Time = 0.00 seconds'"
      ]
     },
     "execution_count": 8,
     "metadata": {},
     "output_type": "execute_result"
    }
   ],
   "source": [
    "commands.getoutput(\"vcftools --vcf 31050_S1_L001.vcf --minQ \")"
   ]
  },
  {
   "cell_type": "code",
   "execution_count": 11,
   "metadata": {
    "collapsed": false
   },
   "outputs": [
    {
     "data": {
      "text/plain": [
       "''"
      ]
     },
     "execution_count": 11,
     "metadata": {},
     "output_type": "execute_result"
    }
   ],
   "source": [
    "commands.getoutput(\"cat 31050_S1_L001.vcf | vcf-annotate -f +/  > new.vcf\")\n"
   ]
  },
  {
   "cell_type": "code",
   "execution_count": null,
   "metadata": {
    "collapsed": true
   },
   "outputs": [],
   "source": []
  }
 ],
 "metadata": {
  "kernelspec": {
   "display_name": "Python 2",
   "language": "python",
   "name": "python2"
  },
  "language_info": {
   "codemirror_mode": {
    "name": "ipython",
    "version": 2
   },
   "file_extension": ".py",
   "mimetype": "text/x-python",
   "name": "python",
   "nbconvert_exporter": "python",
   "pygments_lexer": "ipython2",
   "version": "2.7.11"
  }
 },
 "nbformat": 4,
 "nbformat_minor": 0
}
